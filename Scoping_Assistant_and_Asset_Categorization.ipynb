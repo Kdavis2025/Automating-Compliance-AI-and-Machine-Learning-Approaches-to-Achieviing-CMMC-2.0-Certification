{
  "nbformat": 4,
  "nbformat_minor": 0,
  "metadata": {
    "colab": {
      "provenance": [],
      "authorship_tag": "ABX9TyP2+9cfCjirt7d5o8Lv8r0p",
      "include_colab_link": true
    },
    "kernelspec": {
      "name": "python3",
      "display_name": "Python 3"
    },
    "language_info": {
      "name": "python"
    }
  },
  "cells": [
    {
      "cell_type": "markdown",
      "metadata": {
        "id": "view-in-github",
        "colab_type": "text"
      },
      "source": [
        "<a href=\"https://colab.research.google.com/github/Kdavis2025/Automating-Compliance-AI-and-Machine-Learning-Approaches-to-Achieviing-CMMC-2.0-Certification/blob/main/Scoping_Assistant_and_Asset_Categorization.ipynb\" target=\"_parent\"><img src=\"https://colab.research.google.com/assets/colab-badge.svg\" alt=\"Open In Colab\"/></a>"
      ]
    },
    {
      "cell_type": "code",
      "source": [
        "# Simulated Scanner & Compliance Classifier\n",
        "\n",
        "# Install dependencies\n",
        "!pip install -q pandas scikit-learn\n",
        "\n",
        "# Imports\n",
        "import pandas as pd\n",
        "import time\n",
        "import random\n",
        "from sklearn.feature_extraction.text import TfidfVectorizer\n",
        "from sklearn.tree import DecisionTreeClassifier\n",
        "from sklearn.metrics import accuracy_score, precision_score, recall_score, classification_report\n",
        "from google.colab import files\n",
        "\n",
        "# 1️⃣ Simulate network scanning\n",
        "def simulate_scan_network(num_hosts: int = 10) -> pd.DataFrame:\n",
        "    \"\"\"\n",
        "    Simulate port scanning by generating fake host data.\n",
        "    Returns DataFrame with: ip, hostname, os, services, scan_time_sec.\n",
        "    \"\"\"\n",
        "    ip_base = '192.168.1.'\n",
        "    os_choices = ['Windows Server 2019', 'Ubuntu 20.04', 'CentOS 7', 'macOS 11.2', 'Unknown']\n",
        "    service_catalog = ['22/ssh', '80/http', '443/https', '3389/rdp', '3306/mysql', '5432/postgres']\n",
        "    records = []\n",
        "    for i in range(1, num_hosts + 1):\n",
        "        ip = ip_base + str(i * 10)\n",
        "        hostname = f\"host-{i:02d}\"  # host-01, host-02, ...\n",
        "        os_name = random.choice(os_choices)\n",
        "        num_services = random.randint(1, 3)\n",
        "        services = random.sample(service_catalog, num_services)\n",
        "        # Simulate scan time between 0.5s and 2.0s per host\n",
        "        scan_time = round(random.uniform(0.5, 2.0), 2)\n",
        "        records.append({\n",
        "            'ip': ip,\n",
        "            'hostname': hostname,\n",
        "            'os': os_name,\n",
        "            'services': ' '.join(services),\n",
        "            'scan_time_sec': scan_time\n",
        "        })\n",
        "        # Optional delay to mimic scanning process\n",
        "        time.sleep(0.05)\n",
        "    return pd.DataFrame(records)\n",
        "\n",
        "# 2️⃣ Simulate ground-truth labels\n",
        "def generate_simulated_labels(ip_list: list) -> pd.DataFrame:\n",
        "    \"\"\"\n",
        "    Generate simulated CMMC categories for each IP in ip_list.\n",
        "    \"\"\"\n",
        "    categories = ['In-Scope', 'Out-of-Scope', 'CUI Assets', 'Security Protection',\n",
        "                  'Contractor Risk Managed', 'Specialized']\n",
        "    records = []\n",
        "    for ip in ip_list:\n",
        "        category = random.choice(categories)\n",
        "        records.append({'ip': ip, 'category': category})\n",
        "    return pd.DataFrame(records)\n",
        "\n",
        "# 3️⃣ Define classification & compliance metrics calculation\n",
        "def classify_and_evaluate(df: pd.DataFrame, human_time_per_asset: float = 1.0):\n",
        "    \"\"\"\n",
        "    Train Decision Tree on OS+services, evaluate classification and compute compliance metrics.\n",
        "    Compare ML time vs. manual classification time.\n",
        "    Assumes 'category' column exists (true labels).\n",
        "    Returns DataFrame with predictions and metrics dict.\n",
        "    \"\"\"\n",
        "    vectorizer = TfidfVectorizer()\n",
        "    X = vectorizer.fit_transform(df['os'] + ' ' + df['services'])\n",
        "    y_true = df['category']\n",
        "\n",
        "    clf = DecisionTreeClassifier(random_state=42)\n",
        "    clf.fit(X, y_true)\n",
        "    y_pred = clf.predict(X)\n",
        "    df['predicted_category'] = y_pred\n",
        "\n",
        "    # Timing: assume ML classification is near-instant at scale\n",
        "    ml_time_total = df.shape[0] * 0.01  # e.g., 0.01 sec per asset\n",
        "    manual_time_total = df.shape[0] * human_time_per_asset\n",
        "    time_saved = manual_time_total - ml_time_total\n",
        "\n",
        "    # Classification metrics\n",
        "    accuracy = accuracy_score(y_true, y_pred)\n",
        "    precision = precision_score(y_true, y_pred, average='weighted', zero_division=0)\n",
        "    recall = recall_score(y_true, y_pred, average='weighted', zero_division=0)\n",
        "    report = classification_report(y_true, y_pred, zero_division=0)\n",
        "\n",
        "    metrics = {\n",
        "        'total_assets': df.shape[0],\n",
        "        'accuracy': round(accuracy, 4),\n",
        "        'precision': round(precision, 4),\n",
        "        'recall': round(recall, 4),\n",
        "        'manual_time_total_sec': round(manual_time_total, 2),\n",
        "        'ml_time_total_sec': round(ml_time_total, 2),\n",
        "        'time_saved_sec': round(time_saved, 2),\n",
        "        'classification_report': report\n",
        "    }\n",
        "\n",
        "    print(\"=== Compliance Classification Metrics ===\")\n",
        "    print(f\"Total Assets Evaluated: {metrics['total_assets']}\")\n",
        "    print(f\"Accuracy: {metrics['accuracy']*100:.2f}%\")\n",
        "    print(f\"Precision: {metrics['precision']*100:.2f}%\")\n",
        "    print(f\"Recall: {metrics['recall']*100:.2f}%\")\n",
        "    print(f\"Manual Classification Time (sec): {metrics['manual_time_total_sec']}\")\n",
        "    print(f\"ML Classification Time (sec): {metrics['ml_time_total_sec']}\")\n",
        "    print(f\"Estimated Time Saved (sec): {metrics['time_saved_sec']}\")\n",
        "    print(\"\\nDetailed classification report:\\n\", report)\n",
        "\n",
        "    return df, clf, metrics\n",
        "\n",
        "\n",
        "\n",
        "# 4️⃣ Run simulation of scan and classification workflows\n",
        "print(\"🔍 Simulating port scan...\")\n",
        "df_scan = simulate_scan_network(num_hosts=10)\n",
        "print(f\"Simulated scanning of {len(df_scan)} hosts complete.\")\n",
        "\n",
        "df_scan.to_csv('simulated_scan_results.csv', index=False)\n",
        "print(\"✅ 'simulated_scan_results.csv' has been created.\")\n",
        "files.download('simulated_scan_results.csv')\n",
        "\n",
        "# 5️⃣ Simulate labels for the scanned IPs\n",
        "simulated_labels = generate_simulated_labels(df_scan['ip'].tolist())\n",
        "simulated_labels.to_csv('simulated_labels.csv', index=False)\n",
        "print(\"✅ 'simulated_labels.csv' has been created.\")\n",
        "files.download('simulated_labels.csv')\n",
        "\n",
        "# 6️⃣ Merge scan results with simulated labels\n",
        "df_all = df_scan.merge(simulated_labels, on='ip', how='inner')\n",
        "print(f\"Merged scan and labels: {df_all.shape[0]} assets available for classification.\")\n",
        "\n",
        "# 7️⃣ Run classification & compliance evaluation\n",
        "df_results, model, metrics = classify_and_evaluate(df_all)\n",
        "\n",
        "# 8️⃣ Save final classified results\n",
        "df_results.to_csv('classified_assets.csv', index=False)\n",
        "print(\"✅ 'classified_assets.csv' has been created.\")\n",
        "files.download('classified_assets.csv')\n",
        "\n",
        "# Show best graphic analyzing things such as total assest evaluated, classification time, and estimated time saved\n",
        "import matplotlib.pyplot as plt\n",
        "import seaborn as sns\n",
        "plt.figure(figsize=(10, 6))\n",
        "plt.bar(['Total Assets', 'ML Classification Time', 'Estimated Time Saved'],\n",
        "        [metrics['total_assets'], metrics['ml_time_total_sec'], metrics['time_saved_sec']])\n",
        "plt.ylabel('Time (seconds)')\n",
        "plt.title('Compliance Classification Metrics')\n",
        "plt.show()\n"
      ],
      "metadata": {
        "colab": {
          "base_uri": "https://localhost:8080/",
          "height": 1000
        },
        "id": "STpqamVLJOCE",
        "outputId": "e5fc690f-f58a-4471-99e3-378e341acf58"
      },
      "execution_count": null,
      "outputs": [
        {
          "output_type": "stream",
          "name": "stdout",
          "text": [
            "🔍 Simulating port scan...\n",
            "Simulated scanning of 10 hosts complete.\n",
            "✅ 'simulated_scan_results.csv' has been created.\n"
          ]
        },
        {
          "output_type": "display_data",
          "data": {
            "text/plain": [
              "<IPython.core.display.Javascript object>"
            ],
            "application/javascript": [
              "\n",
              "    async function download(id, filename, size) {\n",
              "      if (!google.colab.kernel.accessAllowed) {\n",
              "        return;\n",
              "      }\n",
              "      const div = document.createElement('div');\n",
              "      const label = document.createElement('label');\n",
              "      label.textContent = `Downloading \"${filename}\": `;\n",
              "      div.appendChild(label);\n",
              "      const progress = document.createElement('progress');\n",
              "      progress.max = size;\n",
              "      div.appendChild(progress);\n",
              "      document.body.appendChild(div);\n",
              "\n",
              "      const buffers = [];\n",
              "      let downloaded = 0;\n",
              "\n",
              "      const channel = await google.colab.kernel.comms.open(id);\n",
              "      // Send a message to notify the kernel that we're ready.\n",
              "      channel.send({})\n",
              "\n",
              "      for await (const message of channel.messages) {\n",
              "        // Send a message to notify the kernel that we're ready.\n",
              "        channel.send({})\n",
              "        if (message.buffers) {\n",
              "          for (const buffer of message.buffers) {\n",
              "            buffers.push(buffer);\n",
              "            downloaded += buffer.byteLength;\n",
              "            progress.value = downloaded;\n",
              "          }\n",
              "        }\n",
              "      }\n",
              "      const blob = new Blob(buffers, {type: 'application/binary'});\n",
              "      const a = document.createElement('a');\n",
              "      a.href = window.URL.createObjectURL(blob);\n",
              "      a.download = filename;\n",
              "      div.appendChild(a);\n",
              "      a.click();\n",
              "      div.remove();\n",
              "    }\n",
              "  "
            ]
          },
          "metadata": {}
        },
        {
          "output_type": "display_data",
          "data": {
            "text/plain": [
              "<IPython.core.display.Javascript object>"
            ],
            "application/javascript": [
              "download(\"download_d592333b-4f73-458d-8625-adf4a0ed8b2a\", \"simulated_scan_results.csv\", 657)"
            ]
          },
          "metadata": {}
        },
        {
          "output_type": "stream",
          "name": "stdout",
          "text": [
            "✅ 'simulated_labels.csv' has been created.\n"
          ]
        },
        {
          "output_type": "display_data",
          "data": {
            "text/plain": [
              "<IPython.core.display.Javascript object>"
            ],
            "application/javascript": [
              "\n",
              "    async function download(id, filename, size) {\n",
              "      if (!google.colab.kernel.accessAllowed) {\n",
              "        return;\n",
              "      }\n",
              "      const div = document.createElement('div');\n",
              "      const label = document.createElement('label');\n",
              "      label.textContent = `Downloading \"${filename}\": `;\n",
              "      div.appendChild(label);\n",
              "      const progress = document.createElement('progress');\n",
              "      progress.max = size;\n",
              "      div.appendChild(progress);\n",
              "      document.body.appendChild(div);\n",
              "\n",
              "      const buffers = [];\n",
              "      let downloaded = 0;\n",
              "\n",
              "      const channel = await google.colab.kernel.comms.open(id);\n",
              "      // Send a message to notify the kernel that we're ready.\n",
              "      channel.send({})\n",
              "\n",
              "      for await (const message of channel.messages) {\n",
              "        // Send a message to notify the kernel that we're ready.\n",
              "        channel.send({})\n",
              "        if (message.buffers) {\n",
              "          for (const buffer of message.buffers) {\n",
              "            buffers.push(buffer);\n",
              "            downloaded += buffer.byteLength;\n",
              "            progress.value = downloaded;\n",
              "          }\n",
              "        }\n",
              "      }\n",
              "      const blob = new Blob(buffers, {type: 'application/binary'});\n",
              "      const a = document.createElement('a');\n",
              "      a.href = window.URL.createObjectURL(blob);\n",
              "      a.download = filename;\n",
              "      div.appendChild(a);\n",
              "      a.click();\n",
              "      div.remove();\n",
              "    }\n",
              "  "
            ]
          },
          "metadata": {}
        },
        {
          "output_type": "display_data",
          "data": {
            "text/plain": [
              "<IPython.core.display.Javascript object>"
            ],
            "application/javascript": [
              "download(\"download_00dc975c-800d-4afd-89b2-afe45ac4f5a6\", \"simulated_labels.csv\", 282)"
            ]
          },
          "metadata": {}
        },
        {
          "output_type": "stream",
          "name": "stdout",
          "text": [
            "Merged scan and labels: 10 assets available for classification.\n",
            "=== Compliance Classification Metrics ===\n",
            "Total Assets Evaluated: 10\n",
            "Accuracy: 100.00%\n",
            "Precision: 100.00%\n",
            "Recall: 100.00%\n",
            "Manual Classification Time (sec): 10.0\n",
            "ML Classification Time (sec): 0.1\n",
            "Estimated Time Saved (sec): 9.9\n",
            "\n",
            "Detailed classification report:\n",
            "                          precision    recall  f1-score   support\n",
            "\n",
            "             CUI Assets       1.00      1.00      1.00         3\n",
            "Contractor Risk Managed       1.00      1.00      1.00         2\n",
            "               In-Scope       1.00      1.00      1.00         1\n",
            "           Out-of-Scope       1.00      1.00      1.00         1\n",
            "            Specialized       1.00      1.00      1.00         3\n",
            "\n",
            "               accuracy                           1.00        10\n",
            "              macro avg       1.00      1.00      1.00        10\n",
            "           weighted avg       1.00      1.00      1.00        10\n",
            "\n",
            "✅ 'classified_assets.csv' has been created.\n"
          ]
        },
        {
          "output_type": "display_data",
          "data": {
            "text/plain": [
              "<IPython.core.display.Javascript object>"
            ],
            "application/javascript": [
              "\n",
              "    async function download(id, filename, size) {\n",
              "      if (!google.colab.kernel.accessAllowed) {\n",
              "        return;\n",
              "      }\n",
              "      const div = document.createElement('div');\n",
              "      const label = document.createElement('label');\n",
              "      label.textContent = `Downloading \"${filename}\": `;\n",
              "      div.appendChild(label);\n",
              "      const progress = document.createElement('progress');\n",
              "      progress.max = size;\n",
              "      div.appendChild(progress);\n",
              "      document.body.appendChild(div);\n",
              "\n",
              "      const buffers = [];\n",
              "      let downloaded = 0;\n",
              "\n",
              "      const channel = await google.colab.kernel.comms.open(id);\n",
              "      // Send a message to notify the kernel that we're ready.\n",
              "      channel.send({})\n",
              "\n",
              "      for await (const message of channel.messages) {\n",
              "        // Send a message to notify the kernel that we're ready.\n",
              "        channel.send({})\n",
              "        if (message.buffers) {\n",
              "          for (const buffer of message.buffers) {\n",
              "            buffers.push(buffer);\n",
              "            downloaded += buffer.byteLength;\n",
              "            progress.value = downloaded;\n",
              "          }\n",
              "        }\n",
              "      }\n",
              "      const blob = new Blob(buffers, {type: 'application/binary'});\n",
              "      const a = document.createElement('a');\n",
              "      a.href = window.URL.createObjectURL(blob);\n",
              "      a.download = filename;\n",
              "      div.appendChild(a);\n",
              "      a.click();\n",
              "      div.remove();\n",
              "    }\n",
              "  "
            ]
          },
          "metadata": {}
        },
        {
          "output_type": "display_data",
          "data": {
            "text/plain": [
              "<IPython.core.display.Javascript object>"
            ],
            "application/javascript": [
              "download(\"download_1c1c46c0-45c7-470c-b132-9be290a1b407\", \"classified_assets.csv\", 963)"
            ]
          },
          "metadata": {}
        },
        {
          "output_type": "display_data",
          "data": {
            "text/plain": [
              "<Figure size 1000x600 with 1 Axes>"
            ],
            "image/png": "[encoded data removed]"
          },
          "metadata": {}
        }
      ]
    }
  ]
}